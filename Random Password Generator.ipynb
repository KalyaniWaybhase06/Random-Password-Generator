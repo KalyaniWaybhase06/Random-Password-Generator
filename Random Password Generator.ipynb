{
 "cells": [
  {
   "cell_type": "code",
   "execution_count": 9,
   "id": "90fcd475",
   "metadata": {},
   "outputs": [
    {
     "name": "stdout",
     "output_type": "stream",
     "text": [
      "Random Password Generator\n",
      "The Generated Password is:  krROc97XuilWbw\n"
     ]
    }
   ],
   "source": [
    "import random\n",
    "\n",
    "print(\"Random Password Generator\")\n",
    "\n",
    "lower = 'abcdefghijklmnopqrstuvwxyz'\n",
    "upper = lower.upper()\n",
    "symbols = '!@#$%^&89()'\n",
    "numbers = '0123456789'\n",
    "\n",
    "all = lower + upper + symbols + numbers\n",
    "\n",
    "length = 14\n",
    "\n",
    "password = \"\".join(random.sample(all, length))\n",
    "print(\"The Generated Password is: \", password)\n",
    "\n",
    "    \n",
    "    \n",
    "    \n",
    "    \n"
   ]
  },
  {
   "cell_type": "code",
   "execution_count": null,
   "id": "42bd7d09",
   "metadata": {},
   "outputs": [],
   "source": []
  },
  {
   "cell_type": "code",
   "execution_count": null,
   "id": "c2f78b00",
   "metadata": {},
   "outputs": [],
   "source": []
  }
 ],
 "metadata": {
  "kernelspec": {
   "display_name": "Python 3 (ipykernel)",
   "language": "python",
   "name": "python3"
  },
  "language_info": {
   "codemirror_mode": {
    "name": "ipython",
    "version": 3
   },
   "file_extension": ".py",
   "mimetype": "text/x-python",
   "name": "python",
   "nbconvert_exporter": "python",
   "pygments_lexer": "ipython3",
   "version": "3.9.13"
  }
 },
 "nbformat": 4,
 "nbformat_minor": 5
}
